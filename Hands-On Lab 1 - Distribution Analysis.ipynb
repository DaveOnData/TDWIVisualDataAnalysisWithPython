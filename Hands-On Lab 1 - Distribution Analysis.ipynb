{
 "cells": [
  {
   "cell_type": "markdown",
   "id": "c184680f",
   "metadata": {},
   "source": [
    "## Hands-On Lab 1 - Distribution Analysis"
   ]
  },
  {
   "cell_type": "markdown",
   "id": "d58fee19",
   "metadata": {},
   "source": [
    "### Step 1 - Load the Data"
   ]
  },
  {
   "cell_type": "markdown",
   "id": "695227fd",
   "metadata": {},
   "source": [
    "The *flights* dataset is provided as a .CSV file stored within a .ZIP archive file to save space. The *read_csv()* function from the *pandas* library will automatically load a single .CSV file stored within a .ZIP. Run the following code cell to load the dataset."
   ]
  },
  {
   "cell_type": "code",
   "execution_count": null,
   "id": "1dec9250",
   "metadata": {},
   "outputs": [],
   "source": [
    "import pandas as pd\n",
    "\n",
    "# Load the flights dataset with the time_hour feature as a datetime\n",
    "flights = pd.read_csv('flights.zip', parse_dates = ['time_hour'])\n",
    "flights.head()"
   ]
  },
  {
   "cell_type": "markdown",
   "id": "223314e1",
   "metadata": {},
   "source": [
    "### Step 2 - Histogram of *air_time*"
   ]
  },
  {
   "cell_type": "markdown",
   "id": "6113e0c0",
   "metadata": {},
   "source": [
    "You will start your distribution analysis by building a histogram for the *air_time* feature of the *flights* dataset. Type the following code into the blank code cell in your lab notebook and run it to produce the results."
   ]
  },
  {
   "cell_type": "code",
   "execution_count": null,
   "id": "59c0d4b0",
   "metadata": {},
   "outputs": [],
   "source": [
    "# Enter your lab code here"
   ]
  },
  {
   "cell_type": "markdown",
   "id": "7069bedf",
   "metadata": {},
   "source": [
    "### Step 3 - Histogram of *air_time* v2"
   ]
  },
  {
   "cell_type": "markdown",
   "id": "f96aa54b",
   "metadata": {},
   "source": [
    "When visualizing data with histograms, it is a best practice to use subject matter expertise whenever possible to set the *binwidth* of your histograms. For example, the *air_time* feature is measured in minutes, so using a *binwidth* of quarter hours (i.e., 15) is a good place to start. Type the following code into the blank code cell in your lab notebook and run it to produce the results."
   ]
  },
  {
   "cell_type": "code",
   "execution_count": null,
   "id": "b5fca124",
   "metadata": {},
   "outputs": [],
   "source": [
    "# Enter your lab code here"
   ]
  },
  {
   "cell_type": "markdown",
   "id": "9e69704c",
   "metadata": {},
   "source": [
    "### Step 4 - Adding the Mean to the Histogram"
   ]
  },
  {
   "cell_type": "markdown",
   "id": "e9a8965d",
   "metadata": {},
   "source": [
    "As covered during the lecture, histograms can be used to analyze the *center* of a distribution. The most common statistic used for this is the mean. It is worthy to note that other statistics (e.g., the median) can be used as well. Type the following code into the blank code cell in your lab notebook and run it to produce the results."
   ]
  },
  {
   "cell_type": "code",
   "execution_count": null,
   "id": "c180db7a",
   "metadata": {},
   "outputs": [],
   "source": [
    "# Enter your lab code here"
   ]
  },
  {
   "cell_type": "markdown",
   "id": "e02ab243",
   "metadata": {},
   "source": [
    "### Step 5 - Annotating the Histogram"
   ]
  },
  {
   "cell_type": "markdown",
   "id": "f00b285d",
   "metadata": {},
   "source": [
    "When using statistics like the mean to characterize the center of a histogram, it can be helpful to annotate the visualization with the value of the statistic. Type the following code into the blank code cell in your lab notebook and run it to produce the results."
   ]
  },
  {
   "cell_type": "code",
   "execution_count": null,
   "id": "31c81694",
   "metadata": {},
   "outputs": [],
   "source": [
    "# Enter your lab code here"
   ]
  },
  {
   "cell_type": "markdown",
   "id": "3042e1e2",
   "metadata": {},
   "source": [
    "### Step 6 - Histogram of *air_time* with Median"
   ]
  },
  {
   "cell_type": "markdown",
   "id": "4edfd9df",
   "metadata": {},
   "source": [
    "Using different statistics for characterizing the center of a histogram often produces valuable insights. For example, using the mean and median often helps understand any potential skew in the distribution. Type the following code into the blank code cell in your lab notebook and run it to produce the results."
   ]
  },
  {
   "cell_type": "code",
   "execution_count": null,
   "id": "e0594d5a",
   "metadata": {},
   "outputs": [],
   "source": [
    "# Enter your lab code here"
   ]
  },
  {
   "cell_type": "markdown",
   "id": "52dc35a1",
   "metadata": {},
   "source": [
    "### Step 7 - Adding *origin* to the Histogram"
   ]
  },
  {
   "cell_type": "markdown",
   "id": "cfdbe064",
   "metadata": {},
   "source": [
    "Adding categorical data is a powerful technique for increasing the potential insights gleaned from histograms. For example, does the distribution of *air_time* vary based on the *origin* airport? Type the following code into the blank code cell in your lab notebook and run it to produce the results."
   ]
  },
  {
   "cell_type": "code",
   "execution_count": null,
   "id": "81bdc141",
   "metadata": {},
   "outputs": [],
   "source": [
    "# Enter your lab code here"
   ]
  },
  {
   "cell_type": "markdown",
   "id": "c6024f58",
   "metadata": {},
   "source": [
    "### Step 8 - Box Plot of *air_time* by *origin*"
   ]
  },
  {
   "cell_type": "markdown",
   "id": "37c0c4fb",
   "metadata": {},
   "source": [
    "Box plots are the perfect complement to histograms for conducting distributional analysis. Box plots are particularly useful for comparing summarized distributions across categories. For example, comparing the distributions of *air_time* by *origin*. Type the following code into the blank code cell in your lab notebook and run it to produce the results."
   ]
  },
  {
   "cell_type": "code",
   "execution_count": null,
   "id": "9e1c0569",
   "metadata": {},
   "outputs": [],
   "source": [
    "# Enter your lab code here"
   ]
  }
 ],
 "metadata": {
  "kernelspec": {
   "display_name": "Python 3 (ipykernel)",
   "language": "python",
   "name": "python3"
  },
  "language_info": {
   "codemirror_mode": {
    "name": "ipython",
    "version": 3
   },
   "file_extension": ".py",
   "mimetype": "text/x-python",
   "name": "python",
   "nbconvert_exporter": "python",
   "pygments_lexer": "ipython3",
   "version": "3.10.9"
  }
 },
 "nbformat": 4,
 "nbformat_minor": 5
}
