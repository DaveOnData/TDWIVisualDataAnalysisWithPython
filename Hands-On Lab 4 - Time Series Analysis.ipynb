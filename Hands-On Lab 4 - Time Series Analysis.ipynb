{
 "cells": [
  {
   "cell_type": "markdown",
   "id": "7e6707be",
   "metadata": {},
   "source": [
    "## Hands-On Lab 4 - Time Series Analysis"
   ]
  },
  {
   "cell_type": "markdown",
   "id": "a5ef9d3d",
   "metadata": {},
   "source": [
    "### Step 1 - Load *month_stats* Dataset"
   ]
  },
  {
   "cell_type": "markdown",
   "id": "1a3a6258",
   "metadata": {},
   "source": [
    "The *month_stats* dataset contains data from the *flights* dataset aggregated to the monthly grain. Run the following code cell to load the dataset. "
   ]
  },
  {
   "cell_type": "code",
   "execution_count": null,
   "id": "6e023fb6",
   "metadata": {},
   "outputs": [],
   "source": [
    "import pandas as pd\n",
    "\n",
    "month_stats = pd.read_csv('month_stats.csv')\n",
    "month_stats.head()"
   ]
  },
  {
   "cell_type": "markdown",
   "id": "038e08c0",
   "metadata": {},
   "source": [
    "### Step 2 - The *late_arr_hours* Time Series"
   ]
  },
  {
   "cell_type": "markdown",
   "id": "62add5de",
   "metadata": {},
   "source": [
    "The *late_arr_hours* feature aggregates the *arr_delay* feature. The *arr_delay* feature is measured in minutes which has been converted to hours for each month of 2013. The following code visualizes the *late_arr_hours* time series. Type the following code into the blank code cell in your lab notebook and run it to produce the results."
   ]
  },
  {
   "cell_type": "code",
   "execution_count": null,
   "id": "dbba0cd1",
   "metadata": {},
   "outputs": [],
   "source": [
    "# Enter your lab code here"
   ]
  },
  {
   "cell_type": "markdown",
   "id": "3c9aa78e",
   "metadata": {},
   "source": [
    "### Step 3 - Load the *airport_stats* Time Series"
   ]
  },
  {
   "cell_type": "markdown",
   "id": "e2780182",
   "metadata": {},
   "source": [
    "The *airport_stats* dataset contains data from the *flights* dataset aggregated to the monthly grain by NYC airport. Run the following code cell to load the dataset."
   ]
  },
  {
   "cell_type": "code",
   "execution_count": null,
   "id": "a215846a",
   "metadata": {},
   "outputs": [],
   "source": [
    "airport_stats = pd.read_csv('airport_stats.csv')\n",
    "airport_stats.head()"
   ]
  },
  {
   "cell_type": "markdown",
   "id": "0e91cbf6",
   "metadata": {},
   "source": [
    "### Step 4 - Drilling Down on *late_arr_hours*"
   ]
  },
  {
   "cell_type": "markdown",
   "id": "01230d50",
   "metadata": {},
   "source": [
    "Time series analysis benefits from adding more features to \"drill-down\" into the data. The *airport_stats* dataset provides a drill-down based on the *origin* feature. The following code visualizes the *late_arr_hours* time series by NYC airport. Type the following code into the blank code cell in your lab notebook and run it to produce the results."
   ]
  },
  {
   "cell_type": "code",
   "execution_count": null,
   "id": "34588429",
   "metadata": {},
   "outputs": [],
   "source": [
    "# Enter your lab code here"
   ]
  },
  {
   "cell_type": "markdown",
   "id": "86f6ebc6",
   "metadata": {},
   "source": [
    "### Step 5 - Rate of Change of *late_arr_hours*"
   ]
  },
  {
   "cell_type": "markdown",
   "id": "64941bd4",
   "metadata": {},
   "source": [
    "As discussed during the lecture, transforming time series data from raw values to percentage changes puts all the data on equal footing for comparison. The following code visualizes the month-to-month *late_arr_hours* rate of change via the *late_arr_hours_change* feature. Type the following code into the blank code cell in your lab notebook and run it to produce the results."
   ]
  },
  {
   "cell_type": "code",
   "execution_count": null,
   "id": "9a901201",
   "metadata": {},
   "outputs": [],
   "source": [
    "# Enter your lab code here"
   ]
  },
  {
   "cell_type": "markdown",
   "id": "9c826ddd",
   "metadata": {},
   "source": [
    "### Step 6 - Variance of *arr_delay* Over Time"
   ]
  },
  {
   "cell_type": "markdown",
   "id": "cda2fb14",
   "metadata": {},
   "source": [
    "The raw data values from the *flights* dataset are needed to analyze the variance of *arr_delay* over time. The following code loads the *flights* dataset and creates the *month_abb* feature. Type the following code into the blank code cell in your lab notebook and run it to produce the results."
   ]
  },
  {
   "cell_type": "code",
   "execution_count": null,
   "id": "c34d6fb1",
   "metadata": {
    "scrolled": true
   },
   "outputs": [],
   "source": [
    "# Enter your lab code here"
   ]
  },
  {
   "cell_type": "markdown",
   "id": "dde4817f",
   "metadata": {},
   "source": [
    "### Step 7 - Visualizing Variance of arr_delay Over Time"
   ]
  },
  {
   "cell_type": "markdown",
   "id": "59953044",
   "metadata": {},
   "source": [
    "Box plots are a great visualization to understand how a numeric feature's distribution varies over time. The following code produces box plots for the *arr_delay* feature by *origin* and *month_abb*. Type the following code into the blank code cell in your lab notebook and run it to produce the results."
   ]
  },
  {
   "cell_type": "code",
   "execution_count": null,
   "id": "cacc669f",
   "metadata": {},
   "outputs": [],
   "source": [
    "# Enter your lab code here"
   ]
  }
 ],
 "metadata": {
  "kernelspec": {
   "display_name": "Python 3 (ipykernel)",
   "language": "python",
   "name": "python3"
  },
  "language_info": {
   "codemirror_mode": {
    "name": "ipython",
    "version": 3
   },
   "file_extension": ".py",
   "mimetype": "text/x-python",
   "name": "python",
   "nbconvert_exporter": "python",
   "pygments_lexer": "ipython3",
   "version": "3.10.9"
  }
 },
 "nbformat": 4,
 "nbformat_minor": 5
}
