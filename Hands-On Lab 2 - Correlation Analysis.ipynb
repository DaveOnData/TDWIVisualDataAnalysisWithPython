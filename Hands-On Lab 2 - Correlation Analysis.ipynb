{
 "cells": [
  {
   "cell_type": "markdown",
   "id": "f2ffea44",
   "metadata": {},
   "source": [
    "## Hands-On Lab 2 - Correlation Analysis"
   ]
  },
  {
   "cell_type": "markdown",
   "id": "a3cfd021",
   "metadata": {},
   "source": [
    "### Step 1 - Load the Data"
   ]
  },
  {
   "cell_type": "markdown",
   "id": "bfd60c23",
   "metadata": {},
   "source": [
    "The *flights* dataset is provided as a .CSV file stored within a .ZIP archive file to save space. The *read_csv()* function from the *pandas* library will automatically load a single .CSV file stored within a .ZIP. Run the following code cell to load the dataset."
   ]
  },
  {
   "cell_type": "code",
   "execution_count": null,
   "id": "5d0d7ddc",
   "metadata": {
    "scrolled": false
   },
   "outputs": [],
   "source": [
    "import pandas as pd\n",
    "\n",
    "# Load the flights dataset with the time_hour feature as a datetime\n",
    "flights = pd.read_csv('flights.zip', parse_dates = ['time_hour'])\n",
    "flights.head()"
   ]
  },
  {
   "cell_type": "markdown",
   "id": "9de294f7",
   "metadata": {},
   "source": [
    "### Step 2 - Correlation Analysis of *dep_delay* to *arr_delay*"
   ]
  },
  {
   "cell_type": "markdown",
   "id": "f50ad385",
   "metadata": {},
   "source": [
    "US commercial airline pilots have been known to say, \"We'll make up time in the air.\" We can explore this idea using the *dep_delay* and *arr_delay* features. Here's the hypothesis - if pilots can consistently make up time in the air (e.g., by flying faster), there should be little correlation between *dep_delay* and *arr_delay*. Type the following code into the blank code cell in your lab notebook and run it to produce the results."
   ]
  },
  {
   "cell_type": "code",
   "execution_count": null,
   "id": "c171456b",
   "metadata": {
    "scrolled": true
   },
   "outputs": [],
   "source": [
    "# Enter your lab code here"
   ]
  },
  {
   "cell_type": "markdown",
   "id": "71a8a3a2",
   "metadata": {},
   "source": [
    "### Step 3 - Add a Trendline"
   ]
  },
  {
   "cell_type": "markdown",
   "id": "2884090c",
   "metadata": {},
   "source": [
    "The addition of trendlines can help illustrate potential correlations in scatter plots. While trendlines can take on many forms, straight lines based on linear regression models are the most common. Type the following code into the blank code cell in your lab notebook and run it to produce the results."
   ]
  },
  {
   "cell_type": "code",
   "execution_count": null,
   "id": "dd0f5ba2",
   "metadata": {
    "scrolled": false
   },
   "outputs": [],
   "source": [
    "# Enter your lab code here"
   ]
  },
  {
   "cell_type": "markdown",
   "id": "4829312b",
   "metadata": {},
   "source": [
    "### Step 4 - Digging Deeper"
   ]
  },
  {
   "cell_type": "markdown",
   "id": "2048bec2",
   "metadata": {},
   "source": [
    "Getting to the \"why\" of delays requires more investigation. The previous scatter plots show a correlation between *dep_delay* and *arr_delay* - especially for larger values of *dep_delay*. Understanding more about the factors correlated with *dep_delay* can help with the \"why.\" For example, a correlation between *sched_dep_time* and *dep_delay*? Type the following code into the blank code cell in your lab notebook and run it to produce the results."
   ]
  },
  {
   "cell_type": "code",
   "execution_count": null,
   "id": "705cb291",
   "metadata": {
    "scrolled": false
   },
   "outputs": [],
   "source": [
    "# Enter your lab code here"
   ]
  },
  {
   "cell_type": "markdown",
   "id": "76f25fe7",
   "metadata": {},
   "source": [
    "### Step 5 - Adding Categories"
   ]
  },
  {
   "cell_type": "markdown",
   "id": "66837729",
   "metadata": {},
   "source": [
    "As discussed during the lecture, adding a categorical variable to scatter plots can provide additional insights regarding the nature of the correlation. One technique for doing this is to color the points in a scatter plot based on the values of a categorical feature. For example, seeing how the correlation between *sched_dep_time* and *dep_delay* might be associated with *origin*. Type the following code into the blank code cell in your lab notebook and run it to produce the results."
   ]
  },
  {
   "cell_type": "code",
   "execution_count": null,
   "id": "a62083b0",
   "metadata": {
    "scrolled": false
   },
   "outputs": [],
   "source": [
    "# Enter your lab code here"
   ]
  },
  {
   "cell_type": "markdown",
   "id": "b2806939",
   "metadata": {},
   "source": [
    "### Step 6 - Faceting"
   ]
  },
  {
   "cell_type": "markdown",
   "id": "7cecc189",
   "metadata": {},
   "source": [
    "The use of *facets* allow for quickly creating multiple visualizations that are \"pivoted\" based on categorical features. The following code continues to explore the potential association of *origin* on the correlation of *sched_dep_time* to *dep_delay*. Type the following code into the blank code cell in your lab notebook and run it to produce the results."
   ]
  },
  {
   "cell_type": "code",
   "execution_count": null,
   "id": "7fa54135",
   "metadata": {
    "scrolled": false
   },
   "outputs": [],
   "source": [
    "# Enter your lab code here"
   ]
  }
 ],
 "metadata": {
  "kernelspec": {
   "display_name": "Python 3 (ipykernel)",
   "language": "python",
   "name": "python3"
  },
  "language_info": {
   "codemirror_mode": {
    "name": "ipython",
    "version": 3
   },
   "file_extension": ".py",
   "mimetype": "text/x-python",
   "name": "python",
   "nbconvert_exporter": "python",
   "pygments_lexer": "ipython3",
   "version": "3.10.9"
  }
 },
 "nbformat": 4,
 "nbformat_minor": 5
}
