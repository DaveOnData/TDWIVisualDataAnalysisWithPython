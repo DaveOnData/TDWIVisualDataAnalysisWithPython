{
 "cells": [
  {
   "cell_type": "markdown",
   "id": "0ddbb259",
   "metadata": {},
   "source": [
    "## Hands-On Lab 3 - Multivariate Analysis"
   ]
  },
  {
   "cell_type": "markdown",
   "id": "8915f3fd",
   "metadata": {},
   "source": [
    "### Step 1 - Load the Data"
   ]
  },
  {
   "cell_type": "markdown",
   "id": "28b6ee6e",
   "metadata": {},
   "source": [
    "The *flights* dataset is provided as a .CSV file stored within a .ZIP archive file to save space. The *read_csv()* function from the *pandas* library will automatically load a single .CSV file stored within a .ZIP. Run the following code cell to load the dataset."
   ]
  },
  {
   "cell_type": "code",
   "execution_count": null,
   "id": "ebc69208",
   "metadata": {},
   "outputs": [],
   "source": [
    "import pandas as pd\n",
    "\n",
    "# Load the flights dataset with the time_hour feature as a datetime\n",
    "flights = pd.read_csv('flights.zip', parse_dates = ['time_hour'])\n",
    "flights.head()"
   ]
  },
  {
   "cell_type": "markdown",
   "id": "70c4a22c",
   "metadata": {},
   "source": [
    "### Step 2 - The *late_arr* Feature"
   ]
  },
  {
   "cell_type": "markdown",
   "id": "18b982af",
   "metadata": {},
   "source": [
    "As covered during lecture, it is common to transform numeric features into categorical representations to facilitate multivariate analysis. The following code transforms the *arr_delay* feature into a new categorical feature named *late_arr*. Type the following code into the blank code cell in your lab notebook and run it to produce the results."
   ]
  },
  {
   "cell_type": "code",
   "execution_count": null,
   "id": "1e851990",
   "metadata": {},
   "outputs": [],
   "source": [
    "# Enter your lab code here"
   ]
  },
  {
   "cell_type": "markdown",
   "id": "e6588e81",
   "metadata": {},
   "source": [
    "### Step 3 - Bar Chart of *late_arr*"
   ]
  },
  {
   "cell_type": "markdown",
   "id": "7d3d21c0",
   "metadata": {},
   "source": [
    "Bar charts are the go-to visualization for understanding the frequencies of categorical feature values (i.e., categorical *levels*). The following code produces a bar chart of the levels of the *late_arr* feature. Type the following code into the blank code cell in your lab notebook and run it to produce the results."
   ]
  },
  {
   "cell_type": "code",
   "execution_count": null,
   "id": "76762ba3",
   "metadata": {},
   "outputs": [],
   "source": [
    "# Enter your lab code here"
   ]
  },
  {
   "cell_type": "markdown",
   "id": "89bdf102",
   "metadata": {},
   "source": [
    "### Step 4 - The *hour* Feature"
   ]
  },
  {
   "cell_type": "markdown",
   "id": "d125589c",
   "metadata": {},
   "source": [
    "The next transformation will use the *hour* feature. This numeric feature stores the hour of the day of a flight's departure using a 24-hour clock. The following code provides the counts of flights by hour of the day. Type the following code into the blank code cell in your lab notebook and run it to produce the results."
   ]
  },
  {
   "cell_type": "code",
   "execution_count": null,
   "id": "160cad10",
   "metadata": {},
   "outputs": [],
   "source": [
    "# Enter your lab code here"
   ]
  },
  {
   "cell_type": "markdown",
   "id": "00ea86f9",
   "metadata": {},
   "source": [
    "### Step 5 - The *dep_type* Feature"
   ]
  },
  {
   "cell_type": "markdown",
   "id": "b933e223",
   "metadata": {},
   "source": [
    "The following code transforms the *hour* feature into a categorical denoting whether a flight departed in the morning or afternoon/evening. Type the following code into the blank code cell in your lab notebook and run it to produce the results."
   ]
  },
  {
   "cell_type": "code",
   "execution_count": null,
   "id": "9bb7dfbc",
   "metadata": {},
   "outputs": [],
   "source": [
    "# Enter your lab code here"
   ]
  },
  {
   "cell_type": "markdown",
   "id": "e0926a31",
   "metadata": {},
   "source": [
    "### Step 6 - Multivariate Analysis of *late_arr*"
   ]
  },
  {
   "cell_type": "markdown",
   "id": "41794714",
   "metadata": {},
   "source": [
    "The code produces the first multivariate analysis of this lab. Specifically, the code uses the *facet_grid()* function to compare the counts of the *late_arr* feature by the combination of *origin* and *dep_type*. Type the following code into the blank code cell in your lab notebook and run it to produce the results."
   ]
  },
  {
   "cell_type": "code",
   "execution_count": null,
   "id": "2e01c389",
   "metadata": {},
   "outputs": [],
   "source": [
    "# Enter your lab code here"
   ]
  },
  {
   "cell_type": "markdown",
   "id": "6940941f",
   "metadata": {},
   "source": [
    "### Step 7 - Multivariate Analysis of *late_arr* with Proportions"
   ]
  },
  {
   "cell_type": "markdown",
   "id": "11b76457",
   "metadata": {},
   "source": [
    "Proportional bar charts are often more effective at spotting patterns and associations than bar charts with category counts. The following code recreates the chart from Step 6 using proportions. Type the following code into the blank code cell in your lab notebook and run it to produce the results."
   ]
  },
  {
   "cell_type": "code",
   "execution_count": null,
   "id": "c3ecb0e5",
   "metadata": {},
   "outputs": [],
   "source": [
    "# Enter your lab code here"
   ]
  },
  {
   "cell_type": "markdown",
   "id": "f12d6d07",
   "metadata": {},
   "source": [
    "### Step 8 - Multivariate Analysis of *late_arr* with Proportions Revisited"
   ]
  },
  {
   "cell_type": "markdown",
   "id": "de9e0332",
   "metadata": {},
   "source": [
    "Swapping the features in a visualization provides a different perspective on the data. The following code is the same as Step 7, except the *origin* and *dep_type* features have been swapped. Type the following code into the blank code cell in your lab notebook and run it to produce the results."
   ]
  },
  {
   "cell_type": "code",
   "execution_count": null,
   "id": "0ae5d69c",
   "metadata": {},
   "outputs": [],
   "source": [
    "# Enter your lab code here"
   ]
  },
  {
   "cell_type": "markdown",
   "id": "9e8a4730",
   "metadata": {},
   "source": [
    "### Step 9 - Multivariate Analysis of *arr_delay*"
   ]
  },
  {
   "cell_type": "markdown",
   "id": "0d75881c",
   "metadata": {},
   "source": [
    "The analyses in this lab so far have only considered the frequency of late arrivals, not the magnitude of lateness. The following code uses box plots to explore the distribution of the *arr_delay* feature by *origin* and *dep_type*. Type the following code into the blank code cell in your lab notebook and run it to produce the results."
   ]
  },
  {
   "cell_type": "code",
   "execution_count": null,
   "id": "1106d1fc",
   "metadata": {},
   "outputs": [],
   "source": [
    "# Enter your lab code here"
   ]
  },
  {
   "cell_type": "markdown",
   "id": "b8c8135d",
   "metadata": {},
   "source": [
    "### Step 10 - Multivariate Analysis of *arr_delay* Revisited"
   ]
  },
  {
   "cell_type": "markdown",
   "id": "4aef33ed",
   "metadata": {},
   "source": [
    "The output of Step 9 is one example where box plots and histograms are like chocolate and peanut butter - better together! The large number of outliers in the in the *arr_delay* feature dominates the box plot. The following code uses a histogram instead. Type the following code into the blank code cell in your lab notebook and run it to produce the results."
   ]
  },
  {
   "cell_type": "code",
   "execution_count": null,
   "id": "51321061",
   "metadata": {},
   "outputs": [],
   "source": [
    "# Enter your lab code here"
   ]
  }
 ],
 "metadata": {
  "kernelspec": {
   "display_name": "Python 3 (ipykernel)",
   "language": "python",
   "name": "python3"
  },
  "language_info": {
   "codemirror_mode": {
    "name": "ipython",
    "version": 3
   },
   "file_extension": ".py",
   "mimetype": "text/x-python",
   "name": "python",
   "nbconvert_exporter": "python",
   "pygments_lexer": "ipython3",
   "version": "3.10.9"
  }
 },
 "nbformat": 4,
 "nbformat_minor": 5
}
